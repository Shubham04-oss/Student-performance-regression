{
 "cells": [
  {
   "cell_type": "code",
   "execution_count": 1,
   "id": "7b8988e1",
   "metadata": {
    "_cell_guid": "b1076dfc-b9ad-4769-8c92-a6c4dae69d19",
    "_uuid": "8f2839f25d086af736a60e9eeb907d3b93b6e0e5",
    "execution": {
     "iopub.execute_input": "2025-07-04T12:33:01.196002Z",
     "iopub.status.busy": "2025-07-04T12:33:01.195628Z",
     "iopub.status.idle": "2025-07-04T12:33:06.099726Z",
     "shell.execute_reply": "2025-07-04T12:33:06.097473Z"
    },
    "papermill": {
     "duration": 4.909942,
     "end_time": "2025-07-04T12:33:06.102079",
     "exception": false,
     "start_time": "2025-07-04T12:33:01.192137",
     "status": "completed"
    },
    "tags": []
   },
   "outputs": [
    {
     "name": "stdout",
     "output_type": "stream",
     "text": [
      "----Model Evaluation----\n",
      "Mean Squared Error 29.095169866715494\n",
      "The R2 score for the model 0.8804332983749564\n",
      "---Coeff of the Model\n",
      "Weight of the model [ 0.23602256  0.72414793 13.06488386  3.51007489  3.28964236  0.3593228\n",
      " -0.62561715 -0.61323624  4.89264896 -0.71690113  0.92931227 -1.40048884\n",
      "  0.99885615  0.75647016]\n",
      "Bias(Intercept) -10.912497209409992\n"
     ]
    }
   ],
   "source": [
    "import pandas as pd\n",
    "import seaborn as sns\n",
    "import matplotlib.pyplot as plt\n",
    "\n",
    "data = pd.read_csv('/kaggle/input/students-performance-in-exams/StudentsPerformance.csv')\n",
    "data_encoded = pd.get_dummies(\n",
    "    data,\n",
    "    columns=[\n",
    "        'gender',\n",
    "        'lunch',\n",
    "        'test preparation course',\n",
    "        'race/ethnicity',\n",
    "        'parental level of education'],\n",
    "    drop_first = True\n",
    ")\n",
    "from sklearn.model_selection import train_test_split\n",
    "from sklearn.linear_model import LinearRegression\n",
    "from sklearn.metrics import mean_squared_error, r2_score\n",
    "\n",
    "X = data_encoded.drop(columns=['math score'])\n",
    "y = data_encoded['math score']\n",
    "X_train , X_test, y_train, y_test = train_test_split(\n",
    "    X,y , test_size = 0.2, random_state = 42\n",
    ")\n",
    "model = LinearRegression()\n",
    "model.fit(X_train,y_train)\n",
    "y_pred = model.predict(X_test)\n",
    "\n",
    "print('----Model Evaluation----')\n",
    "print('Mean Squared Error', mean_squared_error(y_test,y_pred))\n",
    "print(\"The R2 score for the model\",r2_score (y_test,y_pred))\n",
    "\n",
    "print(\"---Coeff of the Model\")\n",
    "print(\"Weight of the model\", model.coef_)\n",
    "print(\"Bias(Intercept)\", model.intercept_)\n",
    "\n"
   ]
  },
  {
   "cell_type": "code",
   "execution_count": null,
   "id": "83f3986f",
   "metadata": {
    "papermill": {
     "duration": 0.002018,
     "end_time": "2025-07-04T12:33:06.106742",
     "exception": false,
     "start_time": "2025-07-04T12:33:06.104724",
     "status": "completed"
    },
    "tags": []
   },
   "outputs": [],
   "source": []
  }
 ],
 "metadata": {
  "kaggle": {
   "accelerator": "none",
   "dataSources": [
    {
     "datasetId": 74977,
     "sourceId": 169835,
     "sourceType": "datasetVersion"
    }
   ],
   "dockerImageVersionId": 31040,
   "isGpuEnabled": false,
   "isInternetEnabled": false,
   "language": "python",
   "sourceType": "notebook"
  },
  "kernelspec": {
   "display_name": "Python 3",
   "language": "python",
   "name": "python3"
  },
  "language_info": {
   "codemirror_mode": {
    "name": "ipython",
    "version": 3
   },
   "file_extension": ".py",
   "mimetype": "text/x-python",
   "name": "python",
   "nbconvert_exporter": "python",
   "pygments_lexer": "ipython3",
   "version": "3.11.11"
  },
  "papermill": {
   "default_parameters": {},
   "duration": 10.873154,
   "end_time": "2025-07-04T12:33:06.830702",
   "environment_variables": {},
   "exception": null,
   "input_path": "__notebook__.ipynb",
   "output_path": "__notebook__.ipynb",
   "parameters": {},
   "start_time": "2025-07-04T12:32:55.957548",
   "version": "2.6.0"
  }
 },
 "nbformat": 4,
 "nbformat_minor": 5
}
